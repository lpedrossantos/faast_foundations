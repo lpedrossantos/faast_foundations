{
 "cells": [
  {
   "cell_type": "code",
   "execution_count": 6,
   "metadata": {},
   "outputs": [],
   "source": [
    "import pandas as pd\n",
    "import re\n",
    "import numpy as np"
   ]
  },
  {
   "cell_type": "code",
   "execution_count": 27,
   "metadata": {},
   "outputs": [],
   "source": [
    "from enum import Enum, auto\n",
    "class Region(Enum):\n",
    "    AL = auto() \n",
    "    AM = auto() \n",
    "    AT = auto() \n",
    "    AZ = auto() \n",
    "    BE = auto() \n",
    "    BG = auto() \n",
    "    BY = auto() \n",
    "    CH = auto() \n",
    "    CY = auto() \n",
    "    CZ = auto() \n",
    "    DE = auto() \n",
    "    DE_TOT = auto() \n",
    "    DK = auto() \n",
    "    EA18 = auto() \n",
    "    EA19 = auto() \n",
    "    EE = auto() \n",
    "    EEA30_2007 = auto() \n",
    "    EEA31 = auto() \n",
    "    EFTA = auto() \n",
    "    EL = auto() \n",
    "    ES = auto() \n",
    "    EU27_2007 = auto() \n",
    "    EU27_2020 = auto() \n",
    "    EU28 = auto() \n",
    "    FI = auto() \n",
    "    FR = auto() \n",
    "    FX = auto() \n",
    "    GE = auto() \n",
    "    HR = auto() \n",
    "    HU = auto() \n",
    "    IE = auto() \n",
    "    IS = auto() \n",
    "    IT = auto() \n",
    "    LI = auto() \n",
    "    LT = auto() \n",
    "    LU = auto() \n",
    "    LV = auto() \n",
    "    MD = auto() \n",
    "    ME = auto() \n",
    "    MK = auto() \n",
    "    MT = auto() \n",
    "    NL = auto() \n",
    "    NO = auto() \n",
    "    PL = auto() \n",
    "    PT = auto() \n",
    "    RO = auto() \n",
    "    RS = auto() \n",
    "    RU = auto() \n",
    "    SE = auto() \n",
    "    SI = auto() \n",
    "    SK = auto() \n",
    "    SM = auto() \n",
    "    TR = auto() \n",
    "    UA = auto() \n",
    "    UK = auto() \n",
    "    XK = auto()\n",
    "\n",
    "    @classmethod\n",
    "    def get_country_regions(cls):\n",
    "        not_country_regions = [\n",
    "            'DE_TOT',\n",
    "            'EA18',\n",
    "            'EA19',\n",
    "            'EEA30_2007',\n",
    "            'EEA31',\n",
    "            'EFTA',\n",
    "            'EU27_2007',\n",
    "            'EU27_2020',\n",
    "            'EU28'\n",
    "\n",
    "        ]\n",
    "\n",
    "        all_country_regions = [member.name for member in cls if member.name not in not_country_regions]\n",
    "\n",
    "        return all_country_regions\n"
   ]
  },
  {
   "cell_type": "code",
   "execution_count": 30,
   "metadata": {},
   "outputs": [],
   "source": [
    "import json\n",
    "\n",
    "\n",
    "with open('./tests/fixtures/countries_list.json', 'w') as file:\n",
    "    json.dump(Region.get_country_regions(), file)\n",
    "\n"
   ]
  },
  {
   "cell_type": "code",
   "execution_count": 22,
   "metadata": {},
   "outputs": [
    {
     "ename": "TypeError",
     "evalue": "'Region' object is not iterable",
     "output_type": "error",
     "traceback": [
      "\u001b[0;31m---------------------------------------------------------------------------\u001b[0m",
      "\u001b[0;31mTypeError\u001b[0m                                 Traceback (most recent call last)",
      "\u001b[0;32m/tmp/ipykernel_11345/691941124.py\u001b[0m in \u001b[0;36m<module>\u001b[0;34m\u001b[0m\n\u001b[0;32m----> 1\u001b[0;31m \u001b[0mr\u001b[0m\u001b[0;34m.\u001b[0m\u001b[0mget_country_regions\u001b[0m\u001b[0;34m(\u001b[0m\u001b[0;34m)\u001b[0m\u001b[0;34m\u001b[0m\u001b[0;34m\u001b[0m\u001b[0m\n\u001b[0m",
      "\u001b[0;32m/tmp/ipykernel_11345/3948876309.py\u001b[0m in \u001b[0;36mget_country_regions\u001b[0;34m(self)\u001b[0m\n\u001b[1;32m     59\u001b[0m \u001b[0;34m\u001b[0m\u001b[0m\n\u001b[1;32m     60\u001b[0m     \u001b[0;32mdef\u001b[0m \u001b[0mget_country_regions\u001b[0m\u001b[0;34m(\u001b[0m\u001b[0mself\u001b[0m\u001b[0;34m)\u001b[0m\u001b[0;34m:\u001b[0m\u001b[0;34m\u001b[0m\u001b[0;34m\u001b[0m\u001b[0m\n\u001b[0;32m---> 61\u001b[0;31m         \u001b[0mall_countries\u001b[0m \u001b[0;34m=\u001b[0m \u001b[0;34m[\u001b[0m\u001b[0mmember\u001b[0m\u001b[0;34m.\u001b[0m\u001b[0mvalue\u001b[0m \u001b[0;32mfor\u001b[0m \u001b[0mmember\u001b[0m \u001b[0;32min\u001b[0m \u001b[0mself\u001b[0m\u001b[0;34m]\u001b[0m\u001b[0;34m\u001b[0m\u001b[0;34m\u001b[0m\u001b[0m\n\u001b[0m\u001b[1;32m     62\u001b[0m         \u001b[0mprint\u001b[0m\u001b[0;34m(\u001b[0m\u001b[0mall_countries\u001b[0m\u001b[0;34m)\u001b[0m\u001b[0;34m\u001b[0m\u001b[0;34m\u001b[0m\u001b[0m\n",
      "\u001b[0;31mTypeError\u001b[0m: 'Region' object is not iterable"
     ]
    }
   ],
   "source": []
  },
  {
   "cell_type": "code",
   "execution_count": 7,
   "metadata": {},
   "outputs": [
    {
     "name": "stdout",
     "output_type": "stream",
     "text": [
      "['AL' 'AM' 'AT' 'AZ' 'BE' 'BG' 'BY' 'CH' 'CY' 'CZ' 'DE' 'DE_TOT' 'DK'\n",
      " 'EA18' 'EA19' 'EE' 'EEA30_2007' 'EEA31' 'EFTA' 'EL' 'ES' 'EU27_2007'\n",
      " 'EU27_2020' 'EU28' 'FI' 'FR' 'FX' 'GE' 'HR' 'HU' 'IE' 'IS' 'IT' 'LI' 'LT'\n",
      " 'LU' 'LV' 'MD' 'ME' 'MK' 'MT' 'NL' 'NO' 'PL' 'PT' 'RO' 'RS' 'RU' 'SE'\n",
      " 'SI' 'SK' 'SM' 'TR' 'UA' 'UK' 'XK']\n"
     ]
    }
   ],
   "source": [
    "data = pd.read_csv('./data/eu_life_expectancy_raw.tsv', sep= '\\,|\\t', header=0, engine='python')\n",
    "data = data.melt(id_vars=['unit', 'sex', 'age', 'geo\\\\time'])\n",
    "data = data.rename(columns={'geo\\\\time' : 'region', 'variable': 'year'})\n",
    "data.value = data.value.apply(lambda x: None if ':' in x else x).str.replace(r'[^0-9.]', '', regex=True)\n",
    "data = data.astype({'year': int, 'value': float})\n",
    "data = data.dropna()\n",
    "# data_only_pt = data[data['region'] == 'PT']\n",
    "# data_only_pt\n",
    "# data_only_pt.to_csv('./data/pt_life_expectancy.csv', index=False)"
   ]
  },
  {
   "cell_type": "code",
   "execution_count": 19,
   "metadata": {},
   "outputs": [
    {
     "data": {
      "text/plain": [
       "'PT'"
      ]
     },
     "execution_count": 19,
     "metadata": {},
     "output_type": "execute_result"
    }
   ],
   "source": [
    "Region.PT.name"
   ]
  },
  {
   "cell_type": "code",
   "execution_count": 9,
   "metadata": {},
   "outputs": [
    {
     "data": {
      "text/plain": [
       "<Region.RU: 48>"
      ]
     },
     "execution_count": 9,
     "metadata": {},
     "output_type": "execute_result"
    }
   ],
   "source": [
    "Region.RU"
   ]
  },
  {
   "cell_type": "code",
   "execution_count": 6,
   "metadata": {},
   "outputs": [
    {
     "data": {
      "text/plain": [
       "unit       object\n",
       "sex        object\n",
       "age        object\n",
       "region     object\n",
       "year        int64\n",
       "value     float64\n",
       "dtype: object"
      ]
     },
     "execution_count": 6,
     "metadata": {},
     "output_type": "execute_result"
    }
   ],
   "source": [
    "data_only_pt.dtypes"
   ]
  }
 ],
 "metadata": {
  "kernelspec": {
   "display_name": "Python 3",
   "language": "python",
   "name": "python3"
  },
  "language_info": {
   "codemirror_mode": {
    "name": "ipython",
    "version": 3
   },
   "file_extension": ".py",
   "mimetype": "text/x-python",
   "name": "python",
   "nbconvert_exporter": "python",
   "pygments_lexer": "ipython3",
   "version": "3.7.16"
  }
 },
 "nbformat": 4,
 "nbformat_minor": 2
}
